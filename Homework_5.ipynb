{
 "cells": [
  {
   "cell_type": "markdown",
   "metadata": {},
   "source": [
    "EXERCISES N. 5\n",
    "Resolve the following exercises using a code editor, an IDE, or a Jupyter Notebook. Then, upload the files to a GitHub public repository. Finally, share the repository's URL as a response to this thread."
   ]
  },
  {
   "cell_type": "markdown",
   "metadata": {},
   "source": [
    "Exercise 1\n",
    "Write a program that: Prompts the user to enter a series of numbers separated by spaces. Converts the input into a list of integers. Displays the list, its length, and the largest and smallest numbers in the list."
   ]
  },
  {
   "cell_type": "code",
   "execution_count": null,
   "metadata": {},
   "outputs": [],
   "source": [
    "try:\n",
    "    user_input = input(\"Enter a series of numbers separated by spaces: \")\n",
    "    number_list = list(map(int, user_input.split()))\n",
    "    \n",
    "    print(f\"List of numbers: {number_list}\")\n",
    "    print(f\"Length of list: {len(number_list)}\")\n",
    "    print(f\"Largest number: {max(number_list)}\")\n",
    "    print(f\"Smallest number: {min(number_list)}\")\n",
    "except ValueError:\n",
    "    print(\"Invalid input. Please enter numbers separated by spaces.\")\n",
    "except Exception as e:\n",
    "    print(\"An error occurred:\", e)"
   ]
  },
  {
   "cell_type": "markdown",
   "metadata": {},
   "source": [
    "Exercise 2\n",
    "Write a program that: Creates a tuple with five elements (hardcoded). Unpacks the tuple into separate variables and displays each variable."
   ]
  },
  {
   "cell_type": "code",
   "execution_count": null,
   "metadata": {},
   "outputs": [],
   "source": [
    "try:\n",
    "    my_tuple = (10, 20, 30, 40, 50)\n",
    "    a, b, c, d, e = my_tuple\n",
    "    \n",
    "    print(f\"First element: {a}\")\n",
    "    print(f\"Second element: {b}\")\n",
    "    print(f\"Third element: {c}\")\n",
    "    print(f\"Fourth element: {d}\")\n",
    "    print(f\"Fifth element: {e}\")\n",
    "except Exception as e:\n",
    "    print(\"An error occurred:\", e)"
   ]
  },
  {
   "cell_type": "markdown",
   "metadata": {},
   "source": [
    "Exercise 3\n",
    "Write a program that: Asks the user to input two sets of numbers separated by commas. Converts the inputs into sets and performs the following operations: Union Intersection Difference (first set minus the second)"
   ]
  },
  {
   "cell_type": "code",
   "execution_count": null,
   "metadata": {},
   "outputs": [],
   "source": [
    "try:\n",
    "    set1 = set(map(int, input(\"Enter the first set of numbers separated by commas: \").split(',')))\n",
    "    set2 = set(map(int, input(\"Enter the second set of numbers separated by commas: \").split(',')))\n",
    "    \n",
    "    print(f\"Union: {set1 | set2}\")\n",
    "    print(f\"Intersection: {set1 & set2}\")\n",
    "    print(f\"Difference (first set minus second): {set1 - set2}\")\n",
    "except ValueError:\n",
    "    print(\"Invalid input. Please enter numbers separated by commas.\")\n",
    "except Exception as e:\n",
    "    print(\"An error occurred:\", e)"
   ]
  },
  {
   "cell_type": "markdown",
   "metadata": {},
   "source": [
    "Exercise 4\n",
    "Write a program that: Prompts the user to input a series of key-value pairs in the format key:value separated by commas. Converts the input into a dictionary and displays it."
   ]
  },
  {
   "cell_type": "code",
   "execution_count": null,
   "metadata": {},
   "outputs": [],
   "source": [
    "try:\n",
    "    user_input = input(\"Enter key-value pairs in the format key:value, separated by commas: \")\n",
    "    kv_pairs = user_input.split(',')\n",
    "    my_dict = {k.strip(): v.strip() for k, v in (pair.split(':') for pair in kv_pairs)}\n",
    "    \n",
    "    print(\"Dictionary:\", my_dict)\n",
    "except ValueError:\n",
    "    print(\"Invalid input. Please enter key-value pairs in the format key:value.\")\n",
    "except Exception as e:\n",
    "    print(\"An error occurred:\", e)"
   ]
  },
  {
   "cell_type": "markdown",
   "metadata": {},
   "source": [
    "Exercise 5\n",
    "Write a program that: Prompts the user to enter a sentence. Uses a dictionary to count and display the frequency of each word in the sentence."
   ]
  },
  {
   "cell_type": "code",
   "execution_count": null,
   "metadata": {},
   "outputs": [],
   "source": [
    "try:\n",
    "    user_input = input(\"Enter a sentence: \")\n",
    "    words = user_input.split()\n",
    "    word_count = {}\n",
    "    \n",
    "    for word in words:\n",
    "        word = word.strip(\".,!?;:\").lower()\n",
    "        word_count[word] = word_count.get(word, 0) + 1\n",
    "    \n",
    "    print(\"Word frequency:\", word_count)\n",
    "except Exception as e:\n",
    "    print(\"An error occurred:\", e)"
   ]
  }
 ],
 "metadata": {
  "kernelspec": {
   "display_name": "Python 3",
   "language": "python",
   "name": "python3"
  },
  "language_info": {
   "codemirror_mode": {
    "name": "ipython",
    "version": 3
   },
   "file_extension": ".py",
   "mimetype": "text/x-python",
   "name": "python",
   "nbconvert_exporter": "python",
   "pygments_lexer": "ipython3",
   "version": "3.10.7"
  }
 },
 "nbformat": 4,
 "nbformat_minor": 2
}
