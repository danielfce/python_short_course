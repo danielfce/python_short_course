{
 "cells": [
  {
   "cell_type": "markdown",
   "metadata": {},
   "source": [
    "EXERCISES N. 5\n",
    "Resolve the following exercises using a code editor, an IDE, or a Jupyter Notebook. Then, upload the files to a GitHub public repository. Finally, share the repository's URL as a response to this thread."
   ]
  },
  {
   "cell_type": "code",
   "execution_count": null,
   "metadata": {},
   "outputs": [],
   "source": []
  }
 ],
 "metadata": {
  "language_info": {
   "name": "python"
  }
 },
 "nbformat": 4,
 "nbformat_minor": 2
}
