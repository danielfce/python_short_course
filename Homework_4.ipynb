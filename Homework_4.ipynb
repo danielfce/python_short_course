{
 "cells": [
  {
   "cell_type": "markdown",
   "metadata": {},
   "source": [
    "EXERCISES N. 4\n",
    "Resolve the following exercises using a code editor, an IDE, or a Jupyter Notebook. Then, upload the files to a GitHub public repository. Finally, share the repository's URL as a response to this thread."
   ]
  },
  {
   "cell_type": "markdown",
   "metadata": {},
   "source": [
    "Exercise 1\n",
    "Write a program that:Prompts the user to input a number. Uses a for loop to display its multiplication table up to 10."
   ]
  },
  {
   "cell_type": "code",
   "execution_count": null,
   "metadata": {},
   "outputs": [],
   "source": [
    "try:\n",
    "    number = int(input(\"Enter a number: \"))\n",
    "    print(f\"Multiplication table for {number}:\")\n",
    "    for i in range(1, 11):\n",
    "        print(f\"{number} x {i} = {number * i}\")\n",
    "except ValueError:\n",
    "    print(\"Invalid input. Please enter a numerical value.\")"
   ]
  },
  {
   "cell_type": "markdown",
   "metadata": {},
   "source": [
    "Exercise 2\n",
    "Write a program that:\n",
    "Uses a while loop to let the user guess a number (predefined in the program, e.g., 7). Provides feedback (\"Too high\", \"Too low\", or \"Correct\") and ends the loop when the user guesses correctly.\n"
   ]
  },
  {
   "cell_type": "code",
   "execution_count": null,
   "metadata": {},
   "outputs": [],
   "source": [
    "target_number = 7  # Predefined number to guess\n",
    "try:\n",
    "    while True:\n",
    "        guess = int(input(\"Guess the number: \"))\n",
    "        if guess > target_number:\n",
    "            print(\"Too high, try again.\")\n",
    "        elif guess < target_number:\n",
    "            print(\"Too low, try again.\")\n",
    "        else:\n",
    "            print(\"Correct! You guessed the number.\")\n",
    "            break\n",
    "except ValueError:\n",
    "    print(\"Invalid input. Please enter a numerical value.\")"
   ]
  },
  {
   "cell_type": "markdown",
   "metadata": {},
   "source": [
    "Exercise 3\n",
    "Write a program that: Prompts the user to enter a string. Uses a for loop to count and display the number of vowels (a, e, i, o, u) in the string."
   ]
  },
  {
   "cell_type": "code",
   "execution_count": null,
   "metadata": {},
   "outputs": [],
   "source": [
    "try:\n",
    "    user_string = input(\"Enter a string: \")\n",
    "    vowels = \"aeiouAEIOU\"\n",
    "    count = 0\n",
    "    \n",
    "    for char in user_string:\n",
    "        if char in vowels:\n",
    "            count += 1\n",
    "    \n",
    "    print(f\"Number of vowels in the string: {count}\")\n",
    "except Exception as e:\n",
    "    print(\"An error occurred:\", e)"
   ]
  },
  {
   "cell_type": "markdown",
   "metadata": {},
   "source": [
    "Exercise 4\n",
    "Write a program that: Prompts the user to input a string. Uses a for loop to reverse the string and display the result."
   ]
  },
  {
   "cell_type": "code",
   "execution_count": null,
   "metadata": {},
   "outputs": [],
   "source": [
    "try:\n",
    "    user_string = input(\"Enter a string: \")\n",
    "    reversed_string = \"\"\n",
    "    \n",
    "    for char in user_string:\n",
    "        reversed_string = char + reversed_string\n",
    "    \n",
    "    print(f\"Reversed string: {reversed_string}\")\n",
    "except Exception as e:\n",
    "    print(\"An error occurred:\", e)"
   ]
  },
  {
   "cell_type": "markdown",
   "metadata": {},
   "source": [
    "Exercise 5\n",
    "Write a program that: Uses a for loop to iterate through numbers from 1 to 50. For multiples of 3, print \"Fizz\". For multiples of 5, print \"Buzz\". For multiples of both 3 and 5, print \"FizzBuzz\". Otherwise, print the number."
   ]
  },
  {
   "cell_type": "code",
   "execution_count": null,
   "metadata": {},
   "outputs": [],
   "source": [
    "try:\n",
    "    for num in range(1, 51):\n",
    "        if num % 3 == 0 and num % 5 == 0:\n",
    "            print(\"FizzBuzz\")\n",
    "        elif num % 3 == 0:\n",
    "            print(\"Fizz\")\n",
    "        elif num % 5 == 0:\n",
    "            print(\"Buzz\")\n",
    "        else:\n",
    "            print(num)\n",
    "except Exception as e:\n",
    "    print(\"An error occurred:\", e)"
   ]
  },
  {
   "cell_type": "markdown",
   "metadata": {},
   "source": []
  }
 ],
 "metadata": {
  "kernelspec": {
   "display_name": "Python 3",
   "language": "python",
   "name": "python3"
  },
  "language_info": {
   "codemirror_mode": {
    "name": "ipython",
    "version": 3
   },
   "file_extension": ".py",
   "mimetype": "text/x-python",
   "name": "python",
   "nbconvert_exporter": "python",
   "pygments_lexer": "ipython3",
   "version": "3.10.7"
  }
 },
 "nbformat": 4,
 "nbformat_minor": 2
}
