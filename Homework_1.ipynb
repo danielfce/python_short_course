{
 "cells": [
  {
   "cell_type": "markdown",
   "metadata": {},
   "source": [
    "Exercise 1\n",
    "Write a program that: Asks the user for their current age.Calculates and displays their age 10 years from now."
   ]
  },
  {
   "cell_type": "code",
   "execution_count": null,
   "metadata": {},
   "outputs": [],
   "source": [
    "age = int(input(\"¿Cuál es tu edad actual? \"))  \n",
    "future_age = age + 10  \n",
    "print(\"in 10 years you eill be\", future_age, \"years.\")  \n"
   ]
  },
  {
   "cell_type": "markdown",
   "metadata": {},
   "source": [
    "Exercise 2\n",
    "Write a program that: Asks the user for their favorite color, food, and hobby. Outputs a summary sentence using their inputs."
   ]
  },
  {
   "cell_type": "code",
   "execution_count": null,
   "metadata": {},
   "outputs": [],
   "source": [
    "color = input(\"What is your favorite color? \")\n",
    "food = input(\"What is your favorite food? \")\n",
    "hobby = input(\"What is your favorite hobby? \")\n",
    "\n",
    "print(f\"Your favorite color is {color}, you love eating {food}, and you enjoy {hobby} in your free time!\")"
   ]
  },
  {
   "cell_type": "markdown",
   "metadata": {},
   "source": [
    "Exercise 3\n",
    "Write a program that: Prompts the user to enter a temperature in Celsius. Converts it to Fahrenheit and displays the result."
   ]
  },
  {
   "cell_type": "code",
   "execution_count": 3,
   "metadata": {},
   "outputs": [
    {
     "name": "stdout",
     "output_type": "stream",
     "text": [
      "24.0°C is equal to 75.2°F\n"
     ]
    }
   ],
   "source": [
    "temp_celsius = float(input(\"Enter a temperature in Celsius: \"))\n",
    "temp_fahrenheit = (temp_celsius * 9/5) + 32\n",
    "print(f\"{temp_celsius}°C is equal to {temp_fahrenheit}°F\")"
   ]
  },
  {
   "cell_type": "markdown",
   "metadata": {},
   "source": [
    "Exercise 4\n",
    "Write a program that: Asks the user to guess a number between 1 and 10. Outputs whether the guess is correct (assume the number is 7 for this exercise)."
   ]
  },
  {
   "cell_type": "code",
   "execution_count": 4,
   "metadata": {},
   "outputs": [
    {
     "name": "stdout",
     "output_type": "stream",
     "text": [
      "Sorry, that's not correct. The number was 7.\n"
     ]
    }
   ],
   "source": [
    "guess = int(input(\"Guess a number between 1 and 10: \"))\n",
    "if guess == 7:\n",
    "    print(\"Congratulations! You guessed the correct number.\")\n",
    "else:\n",
    "    print(\"Sorry, that's not correct. The number was 7.\")"
   ]
  },
  {
   "cell_type": "markdown",
   "metadata": {},
   "source": [
    "Exercise 5\n",
    "Write a program that: Asks the user to input a word and a number. Prints the word repeated that number of times."
   ]
  },
  {
   "cell_type": "code",
   "execution_count": 5,
   "metadata": {},
   "outputs": [
    {
     "name": "stdout",
     "output_type": "stream",
     "text": [
      "apple apple \n"
     ]
    }
   ],
   "source": [
    "word = input(\"Enter a word: \")\n",
    "number = int(input(\"Enter a number: \"))\n",
    "print(word * number)"
   ]
  },
  {
   "cell_type": "markdown",
   "metadata": {},
   "source": [
    "EXERCISES N. 2\n",
    "\n",
    "Exercise 1\n",
    "Write a program that: Asks the user to enter a sentence. Outputs the sentence in all uppercase, all lowercase, and with the first letter of each word capitalized."
   ]
  },
  {
   "cell_type": "code",
   "execution_count": 6,
   "metadata": {},
   "outputs": [
    {
     "name": "stdout",
     "output_type": "stream",
     "text": [
      "Uppercase: HOLA SOY DANIEL\n",
      "Lowercase: hola soy daniel\n",
      "Title Case: Hola Soy Daniel\n"
     ]
    }
   ],
   "source": [
    "sentence = input(\"Enter a sentence: \")\n",
    "print(\"Uppercase:\", sentence.upper())\n",
    "print(\"Lowercase:\", sentence.lower())\n",
    "print(\"Title Case:\", sentence.title())"
   ]
  },
  {
   "cell_type": "markdown",
   "metadata": {},
   "source": [
    "Exercise 2\n",
    "Write a program that: Asks the user to input two boolean values (True or False). Evaluates and displays the results of logical operations (and, or, not) between the two values."
   ]
  },
  {
   "cell_type": "code",
   "execution_count": 7,
   "metadata": {},
   "outputs": [
    {
     "name": "stdout",
     "output_type": "stream",
     "text": [
      "AND operation: False\n",
      "OR operation: True\n",
      "NOT operation on first value: False\n",
      "NOT operation on second value: True\n"
     ]
    }
   ],
   "source": [
    "bool1 = input(\"Enter True or False: \").strip().capitalize() == \"True\"\n",
    "bool2 = input(\"Enter True or False: \").strip().capitalize() == \"True\"\n",
    "\n",
    "print(\"AND operation:\", bool1 and bool2)\n",
    "print(\"OR operation:\", bool1 or bool2)\n",
    "print(\"NOT operation on first value:\", not bool1)\n",
    "print(\"NOT operation on second value:\", not bool2)"
   ]
  }
 ],
 "metadata": {
  "kernelspec": {
   "display_name": "Python 3",
   "language": "python",
   "name": "python3"
  },
  "language_info": {
   "codemirror_mode": {
    "name": "ipython",
    "version": 3
   },
   "file_extension": ".py",
   "mimetype": "text/x-python",
   "name": "python",
   "nbconvert_exporter": "python",
   "pygments_lexer": "ipython3",
   "version": "3.10.7"
  }
 },
 "nbformat": 4,
 "nbformat_minor": 2
}
