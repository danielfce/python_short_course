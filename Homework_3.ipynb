{
 "cells": [
  {
   "cell_type": "markdown",
   "metadata": {},
   "source": [
    "EXERCISES N. 3\n",
    "Resolve the following exercises using a code editor, an IDE, or a Jupyter Notebook. Then, upload the files to a GitHub public repository. Finally, share the repository's URL as a response to this thread."
   ]
  },
  {
   "cell_type": "markdown",
   "metadata": {},
   "source": [
    "Exercise 1\n",
    "Write a program that:Asks the user for a year. Determines whether the year is a leap year.\n",
    "Hint: A leap year is divisible by 4 but not by 100 unless also divisible by 400."
   ]
  },
  {
   "cell_type": "code",
   "execution_count": 1,
   "metadata": {},
   "outputs": [
    {
     "name": "stdout",
     "output_type": "stream",
     "text": [
      "2024 is a leap year.\n"
     ]
    }
   ],
   "source": [
    "year = int(input(\"Enter a year: \"))\n",
    "if (year % 4 == 0 and year % 100 != 0) or (year % 400 == 0):\n",
    "    print(year, \"is a leap year.\")\n",
    "else:\n",
    "    print(year, \"is not a leap year.\")"
   ]
  },
  {
   "cell_type": "markdown",
   "metadata": {},
   "source": [
    "Exercise 2\n",
    "Write a program that: Prompts the user to input two numbers and an operator (+, -, *, /).Performs the operation and displays the result."
   ]
  },
  {
   "cell_type": "code",
   "execution_count": 2,
   "metadata": {},
   "outputs": [
    {
     "name": "stdout",
     "output_type": "stream",
     "text": [
      "Result: 20.0\n"
     ]
    }
   ],
   "source": [
    "num1 = float(input(\"Enter first number: \"))\n",
    "num2 = float(input(\"Enter second number: \"))\n",
    "operator = input(\"Enter an operator (+, -, *, /): \")\n",
    "\n",
    "if operator == '+':\n",
    "    result = num1 + num2\n",
    "elif operator == '-':\n",
    "    result = num1 - num2\n",
    "elif operator == '*':\n",
    "    result = num1 * num2\n",
    "elif operator == '/':\n",
    "    if num2 != 0:\n",
    "        result = num1 / num2\n",
    "    else:\n",
    "        result = \"Error: Division by zero\"\n",
    "else:\n",
    "    result = \"Invalid operator\"\n",
    "\n",
    "print(\"Result:\", result)"
   ]
  },
  {
   "cell_type": "markdown",
   "metadata": {},
   "source": [
    "Exercise 3\n",
    "Write a program that: Prompts the user to input a number. Classifies the number as positive, negative, or zero."
   ]
  },
  {
   "cell_type": "code",
   "execution_count": 3,
   "metadata": {},
   "outputs": [
    {
     "name": "stdout",
     "output_type": "stream",
     "text": [
      "The number is negative.\n"
     ]
    }
   ],
   "source": [
    "try:\n",
    "    number = float(input(\"Enter a number: \"))\n",
    "    if number > 0:\n",
    "        print(\"The number is positive.\")\n",
    "    elif number < 0:\n",
    "        print(\"The number is negative.\")\n",
    "    else:\n",
    "        print(\"The number is zero.\")\n",
    "except ValueError:\n",
    "    print(\"Invalid input. Please enter a numerical value.\")"
   ]
  },
  {
   "cell_type": "markdown",
   "metadata": {},
   "source": [
    "Exercise 4\n",
    "Write a program using match...case that: Asks the user to input a number (1-7). Outputs the corresponding day of the week (e.g., 1 for Monday, 7 for Sunday)."
   ]
  },
  {
   "cell_type": "code",
   "execution_count": 4,
   "metadata": {},
   "outputs": [
    {
     "name": "stdout",
     "output_type": "stream",
     "text": [
      "Friday\n"
     ]
    }
   ],
   "source": [
    "try:\n",
    "    number = int(input(\"Enter a number (1-7): \"))\n",
    "    match number:\n",
    "        case 1:\n",
    "            print(\"Monday\")\n",
    "        case 2:\n",
    "            print(\"Tuesday\")\n",
    "        case 3:\n",
    "            print(\"Wednesday\")\n",
    "        case 4:\n",
    "            print(\"Thursday\")\n",
    "        case 5:\n",
    "            print(\"Friday\")\n",
    "        case 6:\n",
    "            print(\"Saturday\")\n",
    "        case 7:\n",
    "            print(\"Sunday\")\n",
    "        case _:\n",
    "            print(\"Invalid input. Please enter a number between 1 and 7.\")\n",
    "except ValueError:\n",
    "    print(\"Invalid input. Please enter a numerical value.\")"
   ]
  },
  {
   "cell_type": "markdown",
   "metadata": {},
   "source": [
    "Exercise 5\n",
    "Write a program that: Prompts the user to input a single character. Determines if the character is a vowel, consonant, digit, or special character."
   ]
  },
  {
   "cell_type": "code",
   "execution_count": 6,
   "metadata": {},
   "outputs": [
    {
     "name": "stdout",
     "output_type": "stream",
     "text": [
      "The character is a vowel.\n"
     ]
    }
   ],
   "source": [
    "try:\n",
    "    char = input(\"Enter a single character: \")\n",
    "    if len(char) != 1:\n",
    "        print(\"Please enter only one character.\")\n",
    "    elif char.isdigit():\n",
    "        print(\"The character is a digit.\")\n",
    "    elif char.isalpha():\n",
    "        if char.lower() in \"aeiou\":\n",
    "            print(\"The character is a vowel.\")\n",
    "        else:\n",
    "            print(\"The character is a consonant.\")\n",
    "    else:\n",
    "        print(\"The character is a special character.\")\n",
    "except Exception as e:\n",
    "    print(\"An error occurred:\", e)"
   ]
  }
 ],
 "metadata": {
  "kernelspec": {
   "display_name": "Python 3",
   "language": "python",
   "name": "python3"
  },
  "language_info": {
   "codemirror_mode": {
    "name": "ipython",
    "version": 3
   },
   "file_extension": ".py",
   "mimetype": "text/x-python",
   "name": "python",
   "nbconvert_exporter": "python",
   "pygments_lexer": "ipython3",
   "version": "3.10.7"
  }
 },
 "nbformat": 4,
 "nbformat_minor": 2
}
